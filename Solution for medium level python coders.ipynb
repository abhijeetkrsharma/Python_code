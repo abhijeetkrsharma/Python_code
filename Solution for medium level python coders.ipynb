{
 "cells": [
  {
   "cell_type": "code",
   "execution_count": 37,
   "metadata": {},
   "outputs": [
    {
     "data": {
      "text/plain": [
       "' Question:Given a set of points on a map, find out the most optimal way to travel between the points. Ignore the need to travel by road. Assume that you can fly. \\n Now, if we constrain order by time too how would you change the code.\\n The Code should not be more than 250 lines and it should be built in Django Framework and should be deployed on a web server.'"
      ]
     },
     "execution_count": 37,
     "metadata": {},
     "output_type": "execute_result"
    }
   ],
   "source": [
    "\"\"\" Question:Given a set of points on a map, find out the most optimal way to travel between the points. Ignore the need to travel by road. Assume that you can fly. \n",
    " Now, if we constrain order by time too how would you change the code.\n",
    " The Code should not be more than 250 lines and it should be built in Django Framework and should be deployed on a web server.\"\"\"\n"
   ]
  },
  {
   "cell_type": "code",
   "execution_count": 32,
   "metadata": {},
   "outputs": [],
   "source": [
    "# this problem is assumed to be of a type of Travelling salesperson problem\n",
    "import doctest\n",
    "from itertools import permutations"
   ]
  },
  {
   "cell_type": "code",
   "execution_count": 33,
   "metadata": {},
   "outputs": [],
   "source": [
    "# In this code we have assumed a map to be a x-y cartesian plane in which a point(assumed to be of a location in a map) has its coordinates.\n",
    "\n",
    "def distance(point1, point2):\n",
    "    \"\"\"\n",
    "    Returns the Euclidean distance of two points in the Cartesian Plane.\n",
    "\n",
    "    -> distance([3,4],[0,0])\n",
    "    5.0\n",
    "    -> distance([3,6],[10,6])\n",
    "    7.0\n",
    "    \"\"\"\n",
    "    return ((point1[0] - point2[0])**2 + (point1[1] - point2[1])**2) ** 0.5\n",
    "\n"
   ]
  },
  {
   "cell_type": "code",
   "execution_count": 34,
   "metadata": {},
   "outputs": [],
   "source": [
    "def total_distance(points):\n",
    "    \"\"\"\n",
    "    Returns the length of the path passing throught\n",
    "    all the points in the given order.\n",
    "\n",
    "    -> total_distance([[1,2],[4,6]])\n",
    "    5.0\n",
    "    -> total_distance([[3,6],[7,6],[12,6]])\n",
    "    9.0\n",
    "    \"\"\"\n",
    "    return sum([distance(point, points[index + 1]) for index, point in enumerate(points[:-1])])"
   ]
  },
  {
   "cell_type": "code",
   "execution_count": 35,
   "metadata": {},
   "outputs": [],
   "source": [
    "# function for finding out the most optimal way to travel between a given set of points\n",
    "def travelling_salesman(points, start=None):\n",
    "    \"\"\"\n",
    "    Finds the shortest route to visit all the cities by bruteforce.\n",
    "\n",
    "    -> travelling_salesman([[0,0],[10,0],[6,0]])\n",
    "    ([0, 0], [6, 0], [10, 0])\n",
    "    -> travelling_salesman([[0,0],[6,0],[2,3],[3,7],[0.5,9],[3,5],[9,1]])\n",
    "    ([0, 0], [6, 0], [9, 1], [2, 3], [3, 5], [3, 7], [0.5, 9])\n",
    "    \"\"\"\n",
    "    if start is None:\n",
    "        start = points[0]\n",
    "    return min([perm for perm in permutations(points) if perm[0] == start], key=total_distance)\n",
    "\n",
    "\n"
   ]
  },
  {
   "cell_type": "code",
   "execution_count": 36,
   "metadata": {},
   "outputs": [
    {
     "name": "stdout",
     "output_type": "stream",
     "text": [
      "The minimum distance to visit all the following points: ([0, 0], [9, 5.45], [6, 3], [16, 7.2], [0.5, 4.56], [5, 5], [8, 1], [10, 13])\n",
      "starting at [0, 0] is 34.2947544574286.\n"
     ]
    }
   ],
   "source": [
    "def main():\n",
    "    doctest.testmod()\n",
    "    points = [[0, 0], [9, 5.45], [6, 3], [16, 7.2],            # coordinates could be changed according to the given location \n",
    "              [0.5, 4.56], [5, 5], [8, 1], [10, 13]]           # different inputs could be given consisting of different no. of locations\n",
    "    print(\"\"\"The minimum distance to visit all the following points: {}\n",
    "starting at {} is {}.\"\"\".format(\n",
    "        tuple(points),\n",
    "        points[0],\n",
    "        total_distance(travelling_salesman(points))))\n",
    "\n",
    "    \n",
    "    \n",
    "    \n",
    "if __name__== \"__main__\":\n",
    "    main()"
   ]
  },
  {
   "cell_type": "code",
   "execution_count": null,
   "metadata": {},
   "outputs": [],
   "source": []
  }
 ],
 "metadata": {
  "kernelspec": {
   "display_name": "Python 3",
   "language": "python",
   "name": "python3"
  },
  "language_info": {
   "codemirror_mode": {
    "name": "ipython",
    "version": 3
   },
   "file_extension": ".py",
   "mimetype": "text/x-python",
   "name": "python",
   "nbconvert_exporter": "python",
   "pygments_lexer": "ipython3",
   "version": "3.6.5"
  }
 },
 "nbformat": 4,
 "nbformat_minor": 2
}
